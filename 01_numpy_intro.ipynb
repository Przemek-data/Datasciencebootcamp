{
  "nbformat": 4,
  "nbformat_minor": 0,
  "metadata": {
    "colab": {
      "name": "01 numpy intro.ipynb",
      "provenance": [],
      "collapsed_sections": [],
      "authorship_tag": "ABX9TyN9ybvm9fo0VjbFgL3TXn3I",
      "include_colab_link": true
    },
    "kernelspec": {
      "name": "python3",
      "display_name": "Python 3"
    }
  },
  "cells": [
    {
      "cell_type": "markdown",
      "metadata": {
        "id": "view-in-github",
        "colab_type": "text"
      },
      "source": [
        "<a href=\"https://colab.research.google.com/github/Przemek-data/Datasciencebootcamp/blob/main/01_numpy_intro.ipynb\" target=\"_parent\"><img src=\"https://colab.research.google.com/assets/colab-badge.svg\" alt=\"Open In Colab\"/></a>"
      ]
    },
    {
      "cell_type": "code",
      "metadata": {
        "id": "eQeE3rOLT8Uq"
      },
      "source": [
        "import numpy as np\r\n",
        "np.__version__"
      ],
      "execution_count": null,
      "outputs": []
    },
    {
      "cell_type": "code",
      "metadata": {
        "id": "Ncc0TZcDWFA4"
      },
      "source": [
        "print(dir(np))"
      ],
      "execution_count": null,
      "outputs": []
    },
    {
      "cell_type": "code",
      "metadata": {
        "id": "0JHBaIKbWkmM"
      },
      "source": [
        "help(np.array)"
      ],
      "execution_count": null,
      "outputs": []
    },
    {
      "cell_type": "markdown",
      "metadata": {
        "id": "1tqJPSCyXMk1"
      },
      "source": [
        "**1D ARRAY**\r\n"
      ]
    },
    {
      "cell_type": "code",
      "metadata": {
        "id": "oUH1kgE0W36-"
      },
      "source": [
        "x = np.array([1, 3])\r\n",
        "x"
      ],
      "execution_count": null,
      "outputs": []
    },
    {
      "cell_type": "code",
      "metadata": {
        "id": "YSBQafxlXYMK"
      },
      "source": [
        "print(x)"
      ],
      "execution_count": null,
      "outputs": []
    },
    {
      "cell_type": "code",
      "metadata": {
        "id": "7emeucraXdiw"
      },
      "source": [
        "type(x)"
      ],
      "execution_count": null,
      "outputs": []
    },
    {
      "cell_type": "code",
      "metadata": {
        "id": "XhfVch8iXf2e"
      },
      "source": [
        "x.ndim"
      ],
      "execution_count": null,
      "outputs": []
    },
    {
      "cell_type": "code",
      "metadata": {
        "id": "-khj-4FhXmVS"
      },
      "source": [
        "x.shape"
      ],
      "execution_count": null,
      "outputs": []
    },
    {
      "cell_type": "code",
      "metadata": {
        "id": "F5AWF-UeYdKK"
      },
      "source": [
        "x.size"
      ],
      "execution_count": null,
      "outputs": []
    },
    {
      "cell_type": "code",
      "metadata": {
        "id": "s1RXTfHfZdIf"
      },
      "source": [
        "x.dtype"
      ],
      "execution_count": null,
      "outputs": []
    },
    {
      "cell_type": "code",
      "metadata": {
        "id": "e7CaK1P7ZsvI"
      },
      "source": [
        "x = np.array([1.3, 2.2, 3.6])\r\n",
        "print(x)"
      ],
      "execution_count": null,
      "outputs": []
    },
    {
      "cell_type": "code",
      "metadata": {
        "id": "-pVc30ftZ5BJ"
      },
      "source": [
        "x.dtype"
      ],
      "execution_count": null,
      "outputs": []
    },
    {
      "cell_type": "markdown",
      "metadata": {
        "id": "GSDUxiMsaFeq"
      },
      "source": [
        "**2D ARRAY**\r\n"
      ]
    },
    {
      "cell_type": "code",
      "metadata": {
        "id": "ayGbbHTIaBuB"
      },
      "source": [
        "x = np.array([[1,2],[-3,1]])\r\n",
        "x"
      ],
      "execution_count": null,
      "outputs": []
    },
    {
      "cell_type": "code",
      "metadata": {
        "id": "Lm_NZGbpaXo8"
      },
      "source": [
        "x.ndim"
      ],
      "execution_count": null,
      "outputs": []
    },
    {
      "cell_type": "code",
      "metadata": {
        "id": "JPWcJIG5agu1"
      },
      "source": [
        "x.shape"
      ],
      "execution_count": null,
      "outputs": []
    },
    {
      "cell_type": "code",
      "metadata": {
        "id": "pHBtB57BaiVF"
      },
      "source": [
        "x = np.array([[1,2,4], [4,2,1]])\r\n",
        "print(x)"
      ],
      "execution_count": null,
      "outputs": []
    },
    {
      "cell_type": "code",
      "metadata": {
        "id": "0u9v2GgNdLJ3"
      },
      "source": [
        "x.shape"
      ],
      "execution_count": null,
      "outputs": []
    },
    {
      "cell_type": "markdown",
      "metadata": {
        "id": "K8u0xP44dP64"
      },
      "source": [
        "**3D ARRAY**"
      ]
    },
    {
      "cell_type": "code",
      "metadata": {
        "id": "FwSgSoi0dOcL"
      },
      "source": [
        "x = np.array(\r\n",
        "    [[[4,3,1],\r\n",
        "      [3,1,2]],\r\n",
        "     \r\n",
        "     [[4,1,3],\r\n",
        "      [4,2,1]],\r\n",
        "    \r\n",
        "    [[3,2,1],\r\n",
        "     [4,3,2]]])\r\n",
        "\r\n",
        "print(x)"
      ],
      "execution_count": null,
      "outputs": []
    },
    {
      "cell_type": "code",
      "metadata": {
        "id": "geVIBPy9euco"
      },
      "source": [
        "x.ndim"
      ],
      "execution_count": null,
      "outputs": []
    },
    {
      "cell_type": "code",
      "metadata": {
        "id": "opzVEIAIe0lm"
      },
      "source": [
        "x.shape"
      ],
      "execution_count": null,
      "outputs": []
    },
    {
      "cell_type": "code",
      "metadata": {
        "id": "viGc5pibe6kN"
      },
      "source": [
        ""
      ],
      "execution_count": null,
      "outputs": []
    }
  ]
}